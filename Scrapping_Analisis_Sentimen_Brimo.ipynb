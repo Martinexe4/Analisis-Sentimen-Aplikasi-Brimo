{
  "nbformat": 4,
  "nbformat_minor": 0,
  "metadata": {
    "colab": {
      "provenance": [],
      "authorship_tag": "ABX9TyOqCUFUWPFqvVr6hEQbVSXf",
      "include_colab_link": true
    },
    "kernelspec": {
      "name": "python3",
      "display_name": "Python 3"
    },
    "language_info": {
      "name": "python"
    }
  },
  "cells": [
    {
      "cell_type": "markdown",
      "metadata": {
        "id": "view-in-github",
        "colab_type": "text"
      },
      "source": [
        "<a href=\"https://colab.research.google.com/github/Martinexe4/Analisis-Sentimen-Aplikasi-Brimo/blob/main/Scrapping_Analisis_Sentimen_Brimo.ipynb\" target=\"_parent\"><img src=\"https://colab.research.google.com/assets/colab-badge.svg\" alt=\"Open In Colab\"/></a>"
      ]
    },
    {
      "cell_type": "markdown",
      "source": [
        "# Import Module"
      ],
      "metadata": {
        "id": "7ux6F4sXCjXU"
      }
    },
    {
      "cell_type": "code",
      "execution_count": null,
      "metadata": {
        "colab": {
          "base_uri": "https://localhost:8080/"
        },
        "id": "ueUEHVl--Kru",
        "outputId": "24af1c23-de16-402d-c567-3d205b2e7535"
      },
      "outputs": [
        {
          "output_type": "stream",
          "name": "stdout",
          "text": [
            "Requirement already satisfied: google-play-scraper in /usr/local/lib/python3.10/dist-packages (1.2.7)\n"
          ]
        }
      ],
      "source": [
        "!pip install google-play-scraper"
      ]
    },
    {
      "cell_type": "code",
      "source": [
        "from google_play_scraper import app, reviews, Sort, reviews_all"
      ],
      "metadata": {
        "id": "uP0vtbXn_vjY"
      },
      "execution_count": null,
      "outputs": []
    },
    {
      "cell_type": "markdown",
      "source": [
        "# Scrapping Aplikasi Brimo"
      ],
      "metadata": {
        "id": "u4mJx_YWCntS"
      }
    },
    {
      "cell_type": "code",
      "source": [
        "scrapreview = reviews(\n",
        "    'id.co.bri.brimo',\n",
        "    lang='id',\n",
        "    country='id',\n",
        "    sort=Sort.NEWEST,\n",
        "    count=15000,\n",
        ")"
      ],
      "metadata": {
        "id": "5xcHdfyy_2yD"
      },
      "execution_count": null,
      "outputs": []
    },
    {
      "cell_type": "code",
      "source": [
        "import csv\n",
        "\n",
        "with open('ulasan_brimo.csv', mode='w', newline='', encoding='utf-8') as file:\n",
        "    writer = csv.writer(file)\n",
        "    writer.writerow(['review'])\n",
        "    for review in scrapreview[0]:\n",
        "      writer.writerow([review['content']])"
      ],
      "metadata": {
        "id": "zGsep4JNA-Vh"
      },
      "execution_count": null,
      "outputs": []
    },
    {
      "cell_type": "code",
      "source": [
        "import pandas as pd\n",
        "app_reviews_df = pd.DataFrame(scrapreview[0])\n",
        "jumlah_ulasan, jumlah_kolom = app_reviews_df.shape\n",
        "print(f'Jumlah ulasan: {jumlah_ulasan}')\n",
        "print(f'Jumlah kolom: {jumlah_kolom}')"
      ],
      "metadata": {
        "colab": {
          "base_uri": "https://localhost:8080/"
        },
        "id": "OkpdMxsDBqV8",
        "outputId": "35278b74-35b5-48cd-9e3e-9f5d0256b830"
      },
      "execution_count": null,
      "outputs": [
        {
          "output_type": "stream",
          "name": "stdout",
          "text": [
            "Jumlah ulasan: 15000\n",
            "Jumlah kolom: 11\n"
          ]
        }
      ]
    },
    {
      "cell_type": "code",
      "source": [
        "\n",
        "app_reviews_df.to_csv('app_reviews.csv', index=False)\n",
        "from google.colab import files\n",
        "files.download('app_reviews.csv')\n"
      ],
      "metadata": {
        "colab": {
          "base_uri": "https://localhost:8080/",
          "height": 17
        },
        "id": "D4KjKF6dFw2y",
        "outputId": "ae60956b-8074-40cc-b4c1-1e75b9380b7c"
      },
      "execution_count": null,
      "outputs": [
        {
          "output_type": "display_data",
          "data": {
            "text/plain": [
              "<IPython.core.display.Javascript object>"
            ],
            "application/javascript": [
              "\n",
              "    async function download(id, filename, size) {\n",
              "      if (!google.colab.kernel.accessAllowed) {\n",
              "        return;\n",
              "      }\n",
              "      const div = document.createElement('div');\n",
              "      const label = document.createElement('label');\n",
              "      label.textContent = `Downloading \"${filename}\": `;\n",
              "      div.appendChild(label);\n",
              "      const progress = document.createElement('progress');\n",
              "      progress.max = size;\n",
              "      div.appendChild(progress);\n",
              "      document.body.appendChild(div);\n",
              "\n",
              "      const buffers = [];\n",
              "      let downloaded = 0;\n",
              "\n",
              "      const channel = await google.colab.kernel.comms.open(id);\n",
              "      // Send a message to notify the kernel that we're ready.\n",
              "      channel.send({})\n",
              "\n",
              "      for await (const message of channel.messages) {\n",
              "        // Send a message to notify the kernel that we're ready.\n",
              "        channel.send({})\n",
              "        if (message.buffers) {\n",
              "          for (const buffer of message.buffers) {\n",
              "            buffers.push(buffer);\n",
              "            downloaded += buffer.byteLength;\n",
              "            progress.value = downloaded;\n",
              "          }\n",
              "        }\n",
              "      }\n",
              "      const blob = new Blob(buffers, {type: 'application/binary'});\n",
              "      const a = document.createElement('a');\n",
              "      a.href = window.URL.createObjectURL(blob);\n",
              "      a.download = filename;\n",
              "      div.appendChild(a);\n",
              "      a.click();\n",
              "      div.remove();\n",
              "    }\n",
              "  "
            ]
          },
          "metadata": {}
        },
        {
          "output_type": "display_data",
          "data": {
            "text/plain": [
              "<IPython.core.display.Javascript object>"
            ],
            "application/javascript": [
              "download(\"download_820bb15d-b52d-40e2-8a1d-60ce103dbc95\", \"app_reviews.csv\", 5757560)"
            ]
          },
          "metadata": {}
        }
      ]
    },
    {
      "cell_type": "code",
      "source": [
        "app_reviews_df.head()"
      ],
      "metadata": {
        "colab": {
          "base_uri": "https://localhost:8080/",
          "height": 521
        },
        "id": "0bvtRku1DXse",
        "outputId": "afe73cd6-d978-47be-fa16-a417134e7e9d"
      },
      "execution_count": null,
      "outputs": [
        {
          "output_type": "execute_result",
          "data": {
            "text/plain": [
              "                               reviewId         userName  \\\n",
              "0  096eb4a4-7658-446c-a30b-6256866d3061  Pengguna Google   \n",
              "1  36d817c4-753f-40ad-ba08-8011958d451c  Pengguna Google   \n",
              "2  030b2d65-1506-4f44-b978-50fabd7ed3f0  Pengguna Google   \n",
              "3  1505f41b-7fe8-4aa7-b92f-4394eb35e04b  Pengguna Google   \n",
              "4  76d31c37-e843-43ed-bb0a-ff3452e32b36  Pengguna Google   \n",
              "\n",
              "                                           userImage  \\\n",
              "0  https://play-lh.googleusercontent.com/EGemoI2N...   \n",
              "1  https://play-lh.googleusercontent.com/EGemoI2N...   \n",
              "2  https://play-lh.googleusercontent.com/EGemoI2N...   \n",
              "3  https://play-lh.googleusercontent.com/EGemoI2N...   \n",
              "4  https://play-lh.googleusercontent.com/EGemoI2N...   \n",
              "\n",
              "                                             content  score  thumbsUpCount  \\\n",
              "0                                       Menyenangkan      5              0   \n",
              "1                                                  👍      4              0   \n",
              "2                                             Mantap      5              0   \n",
              "3  Awalnya bagus tapi hampir sebulan status trans...      1              0   \n",
              "4  Saya mau masuk BRImo selalu pemberitahuan nya ...      2              0   \n",
              "\n",
              "  reviewCreatedVersion                  at  \\\n",
              "0               2.63.0 2024-07-17 22:42:16   \n",
              "1               2.63.0 2024-07-17 22:39:57   \n",
              "2                 None 2024-07-17 22:35:23   \n",
              "3               2.63.0 2024-07-17 21:50:05   \n",
              "4               2.63.0 2024-07-17 21:49:02   \n",
              "\n",
              "                                        replyContent           repliedAt  \\\n",
              "0                                               None                 NaT   \n",
              "1                                               None                 NaT   \n",
              "2                                               None                 NaT   \n",
              "3  Hai Sobat BRI, terima kasih atas ulasannya. Se... 2024-06-16 03:01:05   \n",
              "4                                               None                 NaT   \n",
              "\n",
              "  appVersion  \n",
              "0     2.63.0  \n",
              "1     2.63.0  \n",
              "2       None  \n",
              "3     2.63.0  \n",
              "4     2.63.0  "
            ],
            "text/html": [
              "\n",
              "  <div id=\"df-783048f1-31a4-413d-8b87-5b4ebd211089\" class=\"colab-df-container\">\n",
              "    <div>\n",
              "<style scoped>\n",
              "    .dataframe tbody tr th:only-of-type {\n",
              "        vertical-align: middle;\n",
              "    }\n",
              "\n",
              "    .dataframe tbody tr th {\n",
              "        vertical-align: top;\n",
              "    }\n",
              "\n",
              "    .dataframe thead th {\n",
              "        text-align: right;\n",
              "    }\n",
              "</style>\n",
              "<table border=\"1\" class=\"dataframe\">\n",
              "  <thead>\n",
              "    <tr style=\"text-align: right;\">\n",
              "      <th></th>\n",
              "      <th>reviewId</th>\n",
              "      <th>userName</th>\n",
              "      <th>userImage</th>\n",
              "      <th>content</th>\n",
              "      <th>score</th>\n",
              "      <th>thumbsUpCount</th>\n",
              "      <th>reviewCreatedVersion</th>\n",
              "      <th>at</th>\n",
              "      <th>replyContent</th>\n",
              "      <th>repliedAt</th>\n",
              "      <th>appVersion</th>\n",
              "    </tr>\n",
              "  </thead>\n",
              "  <tbody>\n",
              "    <tr>\n",
              "      <th>0</th>\n",
              "      <td>096eb4a4-7658-446c-a30b-6256866d3061</td>\n",
              "      <td>Pengguna Google</td>\n",
              "      <td>https://play-lh.googleusercontent.com/EGemoI2N...</td>\n",
              "      <td>Menyenangkan</td>\n",
              "      <td>5</td>\n",
              "      <td>0</td>\n",
              "      <td>2.63.0</td>\n",
              "      <td>2024-07-17 22:42:16</td>\n",
              "      <td>None</td>\n",
              "      <td>NaT</td>\n",
              "      <td>2.63.0</td>\n",
              "    </tr>\n",
              "    <tr>\n",
              "      <th>1</th>\n",
              "      <td>36d817c4-753f-40ad-ba08-8011958d451c</td>\n",
              "      <td>Pengguna Google</td>\n",
              "      <td>https://play-lh.googleusercontent.com/EGemoI2N...</td>\n",
              "      <td>👍</td>\n",
              "      <td>4</td>\n",
              "      <td>0</td>\n",
              "      <td>2.63.0</td>\n",
              "      <td>2024-07-17 22:39:57</td>\n",
              "      <td>None</td>\n",
              "      <td>NaT</td>\n",
              "      <td>2.63.0</td>\n",
              "    </tr>\n",
              "    <tr>\n",
              "      <th>2</th>\n",
              "      <td>030b2d65-1506-4f44-b978-50fabd7ed3f0</td>\n",
              "      <td>Pengguna Google</td>\n",
              "      <td>https://play-lh.googleusercontent.com/EGemoI2N...</td>\n",
              "      <td>Mantap</td>\n",
              "      <td>5</td>\n",
              "      <td>0</td>\n",
              "      <td>None</td>\n",
              "      <td>2024-07-17 22:35:23</td>\n",
              "      <td>None</td>\n",
              "      <td>NaT</td>\n",
              "      <td>None</td>\n",
              "    </tr>\n",
              "    <tr>\n",
              "      <th>3</th>\n",
              "      <td>1505f41b-7fe8-4aa7-b92f-4394eb35e04b</td>\n",
              "      <td>Pengguna Google</td>\n",
              "      <td>https://play-lh.googleusercontent.com/EGemoI2N...</td>\n",
              "      <td>Awalnya bagus tapi hampir sebulan status trans...</td>\n",
              "      <td>1</td>\n",
              "      <td>0</td>\n",
              "      <td>2.63.0</td>\n",
              "      <td>2024-07-17 21:50:05</td>\n",
              "      <td>Hai Sobat BRI, terima kasih atas ulasannya. Se...</td>\n",
              "      <td>2024-06-16 03:01:05</td>\n",
              "      <td>2.63.0</td>\n",
              "    </tr>\n",
              "    <tr>\n",
              "      <th>4</th>\n",
              "      <td>76d31c37-e843-43ed-bb0a-ff3452e32b36</td>\n",
              "      <td>Pengguna Google</td>\n",
              "      <td>https://play-lh.googleusercontent.com/EGemoI2N...</td>\n",
              "      <td>Saya mau masuk BRImo selalu pemberitahuan nya ...</td>\n",
              "      <td>2</td>\n",
              "      <td>0</td>\n",
              "      <td>2.63.0</td>\n",
              "      <td>2024-07-17 21:49:02</td>\n",
              "      <td>None</td>\n",
              "      <td>NaT</td>\n",
              "      <td>2.63.0</td>\n",
              "    </tr>\n",
              "  </tbody>\n",
              "</table>\n",
              "</div>\n",
              "    <div class=\"colab-df-buttons\">\n",
              "\n",
              "  <div class=\"colab-df-container\">\n",
              "    <button class=\"colab-df-convert\" onclick=\"convertToInteractive('df-783048f1-31a4-413d-8b87-5b4ebd211089')\"\n",
              "            title=\"Convert this dataframe to an interactive table.\"\n",
              "            style=\"display:none;\">\n",
              "\n",
              "  <svg xmlns=\"http://www.w3.org/2000/svg\" height=\"24px\" viewBox=\"0 -960 960 960\">\n",
              "    <path d=\"M120-120v-720h720v720H120Zm60-500h600v-160H180v160Zm220 220h160v-160H400v160Zm0 220h160v-160H400v160ZM180-400h160v-160H180v160Zm440 0h160v-160H620v160ZM180-180h160v-160H180v160Zm440 0h160v-160H620v160Z\"/>\n",
              "  </svg>\n",
              "    </button>\n",
              "\n",
              "  <style>\n",
              "    .colab-df-container {\n",
              "      display:flex;\n",
              "      gap: 12px;\n",
              "    }\n",
              "\n",
              "    .colab-df-convert {\n",
              "      background-color: #E8F0FE;\n",
              "      border: none;\n",
              "      border-radius: 50%;\n",
              "      cursor: pointer;\n",
              "      display: none;\n",
              "      fill: #1967D2;\n",
              "      height: 32px;\n",
              "      padding: 0 0 0 0;\n",
              "      width: 32px;\n",
              "    }\n",
              "\n",
              "    .colab-df-convert:hover {\n",
              "      background-color: #E2EBFA;\n",
              "      box-shadow: 0px 1px 2px rgba(60, 64, 67, 0.3), 0px 1px 3px 1px rgba(60, 64, 67, 0.15);\n",
              "      fill: #174EA6;\n",
              "    }\n",
              "\n",
              "    .colab-df-buttons div {\n",
              "      margin-bottom: 4px;\n",
              "    }\n",
              "\n",
              "    [theme=dark] .colab-df-convert {\n",
              "      background-color: #3B4455;\n",
              "      fill: #D2E3FC;\n",
              "    }\n",
              "\n",
              "    [theme=dark] .colab-df-convert:hover {\n",
              "      background-color: #434B5C;\n",
              "      box-shadow: 0px 1px 3px 1px rgba(0, 0, 0, 0.15);\n",
              "      filter: drop-shadow(0px 1px 2px rgba(0, 0, 0, 0.3));\n",
              "      fill: #FFFFFF;\n",
              "    }\n",
              "  </style>\n",
              "\n",
              "    <script>\n",
              "      const buttonEl =\n",
              "        document.querySelector('#df-783048f1-31a4-413d-8b87-5b4ebd211089 button.colab-df-convert');\n",
              "      buttonEl.style.display =\n",
              "        google.colab.kernel.accessAllowed ? 'block' : 'none';\n",
              "\n",
              "      async function convertToInteractive(key) {\n",
              "        const element = document.querySelector('#df-783048f1-31a4-413d-8b87-5b4ebd211089');\n",
              "        const dataTable =\n",
              "          await google.colab.kernel.invokeFunction('convertToInteractive',\n",
              "                                                    [key], {});\n",
              "        if (!dataTable) return;\n",
              "\n",
              "        const docLinkHtml = 'Like what you see? Visit the ' +\n",
              "          '<a target=\"_blank\" href=https://colab.research.google.com/notebooks/data_table.ipynb>data table notebook</a>'\n",
              "          + ' to learn more about interactive tables.';\n",
              "        element.innerHTML = '';\n",
              "        dataTable['output_type'] = 'display_data';\n",
              "        await google.colab.output.renderOutput(dataTable, element);\n",
              "        const docLink = document.createElement('div');\n",
              "        docLink.innerHTML = docLinkHtml;\n",
              "        element.appendChild(docLink);\n",
              "      }\n",
              "    </script>\n",
              "  </div>\n",
              "\n",
              "\n",
              "<div id=\"df-86c4cb20-7a8e-4326-bc68-544463fcbd65\">\n",
              "  <button class=\"colab-df-quickchart\" onclick=\"quickchart('df-86c4cb20-7a8e-4326-bc68-544463fcbd65')\"\n",
              "            title=\"Suggest charts\"\n",
              "            style=\"display:none;\">\n",
              "\n",
              "<svg xmlns=\"http://www.w3.org/2000/svg\" height=\"24px\"viewBox=\"0 0 24 24\"\n",
              "     width=\"24px\">\n",
              "    <g>\n",
              "        <path d=\"M19 3H5c-1.1 0-2 .9-2 2v14c0 1.1.9 2 2 2h14c1.1 0 2-.9 2-2V5c0-1.1-.9-2-2-2zM9 17H7v-7h2v7zm4 0h-2V7h2v10zm4 0h-2v-4h2v4z\"/>\n",
              "    </g>\n",
              "</svg>\n",
              "  </button>\n",
              "\n",
              "<style>\n",
              "  .colab-df-quickchart {\n",
              "      --bg-color: #E8F0FE;\n",
              "      --fill-color: #1967D2;\n",
              "      --hover-bg-color: #E2EBFA;\n",
              "      --hover-fill-color: #174EA6;\n",
              "      --disabled-fill-color: #AAA;\n",
              "      --disabled-bg-color: #DDD;\n",
              "  }\n",
              "\n",
              "  [theme=dark] .colab-df-quickchart {\n",
              "      --bg-color: #3B4455;\n",
              "      --fill-color: #D2E3FC;\n",
              "      --hover-bg-color: #434B5C;\n",
              "      --hover-fill-color: #FFFFFF;\n",
              "      --disabled-bg-color: #3B4455;\n",
              "      --disabled-fill-color: #666;\n",
              "  }\n",
              "\n",
              "  .colab-df-quickchart {\n",
              "    background-color: var(--bg-color);\n",
              "    border: none;\n",
              "    border-radius: 50%;\n",
              "    cursor: pointer;\n",
              "    display: none;\n",
              "    fill: var(--fill-color);\n",
              "    height: 32px;\n",
              "    padding: 0;\n",
              "    width: 32px;\n",
              "  }\n",
              "\n",
              "  .colab-df-quickchart:hover {\n",
              "    background-color: var(--hover-bg-color);\n",
              "    box-shadow: 0 1px 2px rgba(60, 64, 67, 0.3), 0 1px 3px 1px rgba(60, 64, 67, 0.15);\n",
              "    fill: var(--button-hover-fill-color);\n",
              "  }\n",
              "\n",
              "  .colab-df-quickchart-complete:disabled,\n",
              "  .colab-df-quickchart-complete:disabled:hover {\n",
              "    background-color: var(--disabled-bg-color);\n",
              "    fill: var(--disabled-fill-color);\n",
              "    box-shadow: none;\n",
              "  }\n",
              "\n",
              "  .colab-df-spinner {\n",
              "    border: 2px solid var(--fill-color);\n",
              "    border-color: transparent;\n",
              "    border-bottom-color: var(--fill-color);\n",
              "    animation:\n",
              "      spin 1s steps(1) infinite;\n",
              "  }\n",
              "\n",
              "  @keyframes spin {\n",
              "    0% {\n",
              "      border-color: transparent;\n",
              "      border-bottom-color: var(--fill-color);\n",
              "      border-left-color: var(--fill-color);\n",
              "    }\n",
              "    20% {\n",
              "      border-color: transparent;\n",
              "      border-left-color: var(--fill-color);\n",
              "      border-top-color: var(--fill-color);\n",
              "    }\n",
              "    30% {\n",
              "      border-color: transparent;\n",
              "      border-left-color: var(--fill-color);\n",
              "      border-top-color: var(--fill-color);\n",
              "      border-right-color: var(--fill-color);\n",
              "    }\n",
              "    40% {\n",
              "      border-color: transparent;\n",
              "      border-right-color: var(--fill-color);\n",
              "      border-top-color: var(--fill-color);\n",
              "    }\n",
              "    60% {\n",
              "      border-color: transparent;\n",
              "      border-right-color: var(--fill-color);\n",
              "    }\n",
              "    80% {\n",
              "      border-color: transparent;\n",
              "      border-right-color: var(--fill-color);\n",
              "      border-bottom-color: var(--fill-color);\n",
              "    }\n",
              "    90% {\n",
              "      border-color: transparent;\n",
              "      border-bottom-color: var(--fill-color);\n",
              "    }\n",
              "  }\n",
              "</style>\n",
              "\n",
              "  <script>\n",
              "    async function quickchart(key) {\n",
              "      const quickchartButtonEl =\n",
              "        document.querySelector('#' + key + ' button');\n",
              "      quickchartButtonEl.disabled = true;  // To prevent multiple clicks.\n",
              "      quickchartButtonEl.classList.add('colab-df-spinner');\n",
              "      try {\n",
              "        const charts = await google.colab.kernel.invokeFunction(\n",
              "            'suggestCharts', [key], {});\n",
              "      } catch (error) {\n",
              "        console.error('Error during call to suggestCharts:', error);\n",
              "      }\n",
              "      quickchartButtonEl.classList.remove('colab-df-spinner');\n",
              "      quickchartButtonEl.classList.add('colab-df-quickchart-complete');\n",
              "    }\n",
              "    (() => {\n",
              "      let quickchartButtonEl =\n",
              "        document.querySelector('#df-86c4cb20-7a8e-4326-bc68-544463fcbd65 button');\n",
              "      quickchartButtonEl.style.display =\n",
              "        google.colab.kernel.accessAllowed ? 'block' : 'none';\n",
              "    })();\n",
              "  </script>\n",
              "</div>\n",
              "\n",
              "    </div>\n",
              "  </div>\n"
            ],
            "application/vnd.google.colaboratory.intrinsic+json": {
              "type": "dataframe",
              "variable_name": "app_reviews_df",
              "summary": "{\n  \"name\": \"app_reviews_df\",\n  \"rows\": 15000,\n  \"fields\": [\n    {\n      \"column\": \"reviewId\",\n      \"properties\": {\n        \"dtype\": \"string\",\n        \"num_unique_values\": 15000,\n        \"samples\": [\n          \"d73ba3a2-6b77-4826-bffb-e7521f51fea3\",\n          \"ee55e1c2-ee7f-4711-8371-c28e0592d260\",\n          \"7b056a5b-f92b-4165-9dd6-c60f341c5c14\"\n        ],\n        \"semantic_type\": \"\",\n        \"description\": \"\"\n      }\n    },\n    {\n      \"column\": \"userName\",\n      \"properties\": {\n        \"dtype\": \"category\",\n        \"num_unique_values\": 1501,\n        \"samples\": [\n          \"Arya Trsptra\",\n          \"Riyanto Anto\",\n          \"Bagas rifqiansyah\"\n        ],\n        \"semantic_type\": \"\",\n        \"description\": \"\"\n      }\n    },\n    {\n      \"column\": \"userImage\",\n      \"properties\": {\n        \"dtype\": \"category\",\n        \"num_unique_values\": 1501,\n        \"samples\": [\n          \"https://play-lh.googleusercontent.com/a/ACg8ocKgmS8r91Lr7B-GL0TXJGaY2gqzvgn6e8ued1YbOJj0-5RP_A=mo\",\n          \"https://play-lh.googleusercontent.com/a/ACg8ocK7YqmLEf4H84HOxO7qBfggIxsJi-SVwE45MWb2J7_U5iZrlg=mo\",\n          \"https://play-lh.googleusercontent.com/a-/ALV-UjW9jWUHLjFTrw7Pdov6mB0BrrWtuU5kYovSMvhNgo-b_Zj0E04J\"\n        ],\n        \"semantic_type\": \"\",\n        \"description\": \"\"\n      }\n    },\n    {\n      \"column\": \"content\",\n      \"properties\": {\n        \"dtype\": \"string\",\n        \"num_unique_values\": 9882,\n        \"samples\": [\n          \"Mantap Brimo\",\n          \"tiba-tiba saldo sisa limit, saldo menghilang sebesar kurang lebih 140k terpotong ntah potongan apa yang dimasukkan padahal tidak di otak atik. dan pemotongan terjadi tanpa ada konfirmasi, tanpa notifikasi pas ngelihat saldo di aplikasi kok sisa limit\",\n          \"Saya login brimo ke hp yang baru tidak bisa login karena nomer tidak benar padahal sudah sesuai nomernya dengan akun yg daftar di bri\"\n        ],\n        \"semantic_type\": \"\",\n        \"description\": \"\"\n      }\n    },\n    {\n      \"column\": \"score\",\n      \"properties\": {\n        \"dtype\": \"number\",\n        \"std\": 1,\n        \"min\": 1,\n        \"max\": 5,\n        \"num_unique_values\": 5,\n        \"samples\": [\n          4,\n          3,\n          1\n        ],\n        \"semantic_type\": \"\",\n        \"description\": \"\"\n      }\n    },\n    {\n      \"column\": \"thumbsUpCount\",\n      \"properties\": {\n        \"dtype\": \"number\",\n        \"std\": 11,\n        \"min\": 0,\n        \"max\": 1022,\n        \"num_unique_values\": 60,\n        \"samples\": [\n          0,\n          5,\n          173\n        ],\n        \"semantic_type\": \"\",\n        \"description\": \"\"\n      }\n    },\n    {\n      \"column\": \"reviewCreatedVersion\",\n      \"properties\": {\n        \"dtype\": \"category\",\n        \"num_unique_values\": 53,\n        \"samples\": [\n          \"2.22.0\",\n          \"2.21.0\",\n          \"2.41.0\"\n        ],\n        \"semantic_type\": \"\",\n        \"description\": \"\"\n      }\n    },\n    {\n      \"column\": \"at\",\n      \"properties\": {\n        \"dtype\": \"date\",\n        \"min\": \"2024-05-31 11:39:22\",\n        \"max\": \"2024-07-17 22:42:16\",\n        \"num_unique_values\": 14974,\n        \"samples\": [\n          \"2024-06-10 13:58:09\",\n          \"2024-06-17 05:16:35\",\n          \"2024-06-16 22:46:45\"\n        ],\n        \"semantic_type\": \"\",\n        \"description\": \"\"\n      }\n    },\n    {\n      \"column\": \"replyContent\",\n      \"properties\": {\n        \"dtype\": \"category\",\n        \"num_unique_values\": 501,\n        \"samples\": [\n          \"Hai Sobat BRI, mohon maaf atas ketidaknyamanan yang dialami. Guna pengecekan silakan kirimkan detail kendala yang dialami melalui WhatsApp BRI 08121214017 atau Email callbri@bri.co.id. Tks~Shima\\n\\n\",\n          \"Sobat BRI, mohon maaf atas ketidaknyamanan yang dialami. Guna pengecekan mohon kirimkan detail kendala yang dialami melalui Whatsapp resmi BRI 0812 1214 017 atau Email callbri@bri.co.id dan jika sudah tidak mengalami kendala kami harapkan bintang 5 dari Sobat BRI. Tks~Oris\\n\\n\",\n          \"Hai Sobat BRI, terima kasih atas ulasannya. Semoga aplikasi BRImo semakin mempermudah transaksi Sobat BRI. Tks~Yoga\"\n        ],\n        \"semantic_type\": \"\",\n        \"description\": \"\"\n      }\n    },\n    {\n      \"column\": \"repliedAt\",\n      \"properties\": {\n        \"dtype\": \"date\",\n        \"min\": \"2019-03-20 03:50:43\",\n        \"max\": \"2024-07-16 19:02:10\",\n        \"num_unique_values\": 11391,\n        \"samples\": [\n          \"2022-06-24 03:38:32\",\n          \"2024-07-16 11:17:15\",\n          \"2024-07-15 17:15:41\"\n        ],\n        \"semantic_type\": \"\",\n        \"description\": \"\"\n      }\n    },\n    {\n      \"column\": \"appVersion\",\n      \"properties\": {\n        \"dtype\": \"category\",\n        \"num_unique_values\": 53,\n        \"samples\": [\n          \"2.22.0\",\n          \"2.21.0\",\n          \"2.41.0\"\n        ],\n        \"semantic_type\": \"\",\n        \"description\": \"\"\n      }\n    }\n  ]\n}"
            }
          },
          "metadata": {},
          "execution_count": 27
        }
      ]
    },
    {
      "cell_type": "code",
      "source": [],
      "metadata": {
        "id": "saVTzJ9dDZZ9"
      },
      "execution_count": null,
      "outputs": []
    }
  ]
}